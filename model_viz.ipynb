{
 "cells": [
  {
   "cell_type": "markdown",
   "id": "bbd96ce5",
   "metadata": {},
   "source": [
    "# Use torchviz to visualize model"
   ]
  },
  {
   "cell_type": "code",
   "execution_count": 11,
   "id": "39c0be29",
   "metadata": {},
   "outputs": [
    {
     "name": "stdout",
     "output_type": "stream",
     "text": [
      "==========================================================================================\n",
      "Layer (type:depth-idx)                   Output Shape              Param #\n",
      "==========================================================================================\n",
      "HandGestureCNN                           [1, 24]                   --\n",
      "├─Conv2d: 1-1                            [1, 16, 64, 64]           160\n",
      "├─BatchNorm2d: 1-2                       [1, 16, 64, 64]           32\n",
      "├─MaxPool2d: 1-3                         [1, 16, 32, 32]           --\n",
      "├─Conv2d: 1-4                            [1, 32, 32, 32]           4,640\n",
      "├─BatchNorm2d: 1-5                       [1, 32, 32, 32]           64\n",
      "├─MaxPool2d: 1-6                         [1, 32, 16, 16]           --\n",
      "├─Conv2d: 1-7                            [1, 64, 16, 16]           18,496\n",
      "├─BatchNorm2d: 1-8                       [1, 64, 16, 16]           128\n",
      "├─MaxPool2d: 1-9                         [1, 64, 8, 8]             --\n",
      "├─Conv2d: 1-10                           [1, 128, 8, 8]            73,856\n",
      "├─BatchNorm2d: 1-11                      [1, 128, 8, 8]            256\n",
      "├─MaxPool2d: 1-12                        [1, 128, 4, 4]            --\n",
      "├─Conv2d: 1-13                           [1, 256, 4, 4]            295,168\n",
      "├─BatchNorm2d: 1-14                      [1, 256, 4, 4]            512\n",
      "├─AdaptiveAvgPool2d: 1-15                [1, 256, 1, 1]            --\n",
      "├─Linear: 1-16                           [1, 128]                  32,896\n",
      "├─Dropout: 1-17                          [1, 128]                  --\n",
      "├─Linear: 1-18                           [1, 24]                   3,096\n",
      "==========================================================================================\n",
      "Total params: 429,304\n",
      "Trainable params: 429,304\n",
      "Non-trainable params: 0\n",
      "Total mult-adds (Units.MEGABYTES): 19.63\n",
      "==========================================================================================\n",
      "Input size (MB): 0.02\n",
      "Forward/backward pass size (MB): 2.03\n",
      "Params size (MB): 1.72\n",
      "Estimated Total Size (MB): 3.77\n",
      "==========================================================================================\n"
     ]
    }
   ],
   "source": [
    "%reload_ext autoreload\n",
    "%autoreload 2 \n",
    "%matplotlib inline\n",
    "\n",
    "from torchviz import make_dot\n",
    "from model import HandGestureCNN, EnhancedHandGestureCNN\n",
    "import torch\n",
    "from torchinfo import summary\n",
    "\n",
    "\n",
    "model1 = HandGestureCNN(24)\n",
    "IMAGE_SIZE = 64\n",
    "input_size = (1,1,IMAGE_SIZE, IMAGE_SIZE)\n",
    "\n",
    "x = torch.rand(size=input_size)\n",
    "y = model1(x)\n",
    "\n",
    "make_dot(y, params=dict(model1.named_parameters())).render(\"HandGestureCNN\", format=\"png\")\n",
    "\n",
    "print(summary(model1, input_size=input_size))\n",
    "\n"
   ]
  },
  {
   "cell_type": "code",
   "execution_count": 12,
   "id": "5daa3701",
   "metadata": {},
   "outputs": [
    {
     "name": "stdout",
     "output_type": "stream",
     "text": [
      "==========================================================================================\n",
      "Layer (type:depth-idx)                   Output Shape              Param #\n",
      "==========================================================================================\n",
      "EnhancedHandGestureCNN                   [1, 24]                   --\n",
      "├─Sequential: 1-1                        [1, 64, 32, 32]           --\n",
      "│    └─Conv2d: 2-1                       [1, 64, 64, 64]           640\n",
      "│    └─BatchNorm2d: 2-2                  [1, 64, 64, 64]           128\n",
      "│    └─SiLU: 2-3                         [1, 64, 64, 64]           --\n",
      "│    └─MaxPool2d: 2-4                    [1, 64, 32, 32]           --\n",
      "├─Sequential: 1-2                        [1, 128, 16, 16]          --\n",
      "│    └─Conv2d: 2-5                       [1, 128, 32, 32]          73,856\n",
      "│    └─BatchNorm2d: 2-6                  [1, 128, 32, 32]          256\n",
      "│    └─SiLU: 2-7                         [1, 128, 32, 32]          --\n",
      "│    └─MaxPool2d: 2-8                    [1, 128, 16, 16]          --\n",
      "│    └─ResidualBlock: 2-9                [1, 128, 16, 16]          --\n",
      "│    │    └─Conv2d: 3-1                  [1, 128, 16, 16]          147,584\n",
      "│    │    └─BatchNorm2d: 3-2             [1, 128, 16, 16]          256\n",
      "│    │    └─Conv2d: 3-3                  [1, 128, 16, 16]          147,584\n",
      "│    │    └─BatchNorm2d: 3-4             [1, 128, 16, 16]          256\n",
      "├─Sequential: 1-3                        [1, 256, 8, 8]            --\n",
      "│    └─Conv2d: 2-10                      [1, 256, 16, 16]          295,168\n",
      "│    └─BatchNorm2d: 2-11                 [1, 256, 16, 16]          512\n",
      "│    └─SiLU: 2-12                        [1, 256, 16, 16]          --\n",
      "│    └─MaxPool2d: 2-13                   [1, 256, 8, 8]            --\n",
      "│    └─ResidualBlock: 2-14               [1, 256, 8, 8]            --\n",
      "│    │    └─Conv2d: 3-5                  [1, 256, 8, 8]            590,080\n",
      "│    │    └─BatchNorm2d: 3-6             [1, 256, 8, 8]            512\n",
      "│    │    └─Conv2d: 3-7                  [1, 256, 8, 8]            590,080\n",
      "│    │    └─BatchNorm2d: 3-8             [1, 256, 8, 8]            512\n",
      "├─Sequential: 1-4                        [1, 512, 1, 1]            --\n",
      "│    └─Conv2d: 2-15                      [1, 512, 8, 8]            1,180,160\n",
      "│    └─BatchNorm2d: 2-16                 [1, 512, 8, 8]            1,024\n",
      "│    └─SiLU: 2-17                        [1, 512, 8, 8]            --\n",
      "│    └─ResidualBlock: 2-18               [1, 512, 8, 8]            --\n",
      "│    │    └─Conv2d: 3-9                  [1, 512, 8, 8]            2,359,808\n",
      "│    │    └─BatchNorm2d: 3-10            [1, 512, 8, 8]            1,024\n",
      "│    │    └─Conv2d: 3-11                 [1, 512, 8, 8]            2,359,808\n",
      "│    │    └─BatchNorm2d: 3-12            [1, 512, 8, 8]            1,024\n",
      "│    └─AdaptiveAvgPool2d: 2-19           [1, 512, 1, 1]            --\n",
      "├─Sequential: 1-5                        [1, 24]                   --\n",
      "│    └─Flatten: 2-20                     [1, 512]                  --\n",
      "│    └─Dropout: 2-21                     [1, 512]                  --\n",
      "│    └─Linear: 2-22                      [1, 256]                  131,328\n",
      "│    └─SiLU: 2-23                        [1, 256]                  --\n",
      "│    └─Linear: 2-24                      [1, 24]                   6,168\n",
      "==========================================================================================\n",
      "Total params: 7,887,768\n",
      "Trainable params: 7,887,768\n",
      "Non-trainable params: 0\n",
      "Total mult-adds (Units.MEGABYTES): 682.63\n",
      "==========================================================================================\n",
      "Input size (MB): 0.02\n",
      "Forward/backward pass size (MB): 10.49\n",
      "Params size (MB): 31.55\n",
      "Estimated Total Size (MB): 42.06\n",
      "==========================================================================================\n"
     ]
    }
   ],
   "source": [
    "model2 = EnhancedHandGestureCNN(24)\n",
    "\n",
    "make_dot(y, params=dict(model1.named_parameters())).render(\"EnhancedHandGestureCNN\", format=\"png\")\n",
    "print(summary(model2, input_size=input_size))"
   ]
  }
 ],
 "metadata": {
  "kernelspec": {
   "display_name": "acv",
   "language": "python",
   "name": "python3"
  },
  "language_info": {
   "codemirror_mode": {
    "name": "ipython",
    "version": 3
   },
   "file_extension": ".py",
   "mimetype": "text/x-python",
   "name": "python",
   "nbconvert_exporter": "python",
   "pygments_lexer": "ipython3",
   "version": "3.13.2"
  }
 },
 "nbformat": 4,
 "nbformat_minor": 5
}
